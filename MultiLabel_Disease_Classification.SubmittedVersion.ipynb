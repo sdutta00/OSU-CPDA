{
 "cells": [
  {
   "cell_type": "markdown",
   "metadata": {},
   "source": [
    "# Multi-label Disease Classification from Medline Articles"
   ]
  },
  {
   "cell_type": "markdown",
   "metadata": {},
   "source": [
    "A huge number of journal articles are published each year focusing on various kinds of diseases. The number of articles is further increased due to the overlapping of scope of various subjects; for instance, articles on medicine and journals on chemistry may both focus on autoimmune diseases.\n",
    "\n",
    "We'll use this notebook to develop a model which will take in MEDLINE articles and will classify it into one or more disease categories (or even none of the categories) based on the abstract of the article."
   ]
  },
  {
   "cell_type": "markdown",
   "metadata": {},
   "source": [
    "#### Import basic packages & set seed for reproducibility"
   ]
  },
  {
   "cell_type": "code",
   "execution_count": 1,
   "metadata": {},
   "outputs": [],
   "source": [
    "import numpy as np\n",
    "import pandas as pd\n",
    "import os\n",
    "import sys\n",
    "import datetime\n",
    "import matplotlib.pyplot as plt\n",
    "\n",
    "np.random.seed(7)"
   ]
  },
  {
   "cell_type": "markdown",
   "metadata": {},
   "source": [
    "#### Load packages specific to MEDLINE\n",
    "Use \"Medline\" package from \"biopython\" to parse the MEDLINE file(s)\n",
    "\n",
    "_Details of the package are found in:_\n",
    "* _http://biopython.org/_\n",
    "* _http://biopython.org/DIST/docs/api/Bio-module.html_\n",
    "* _http://biopython.org/DIST/docs/api/Bio.Medline-module.html_"
   ]
  },
  {
   "cell_type": "code",
   "execution_count": 2,
   "metadata": {},
   "outputs": [],
   "source": [
    "from collections import defaultdict\n",
    "from Bio import Medline"
   ]
  },
  {
   "cell_type": "markdown",
   "metadata": {},
   "source": [
    "## Vectorization of Words (Word Embedding)\n",
    "Natural language processing (NLP) systems traditionally treat words as discrete atomic symbols. For example, ‘tiger’ may be represented as “W1” and 'cat' as “W2”. These encodings are arbitrary and provide no useful information regarding the relationships that may exist between the individual symbols. Representing words as unique, discrete symbols furthermore leads to data sparsity, and usually means that we may need more data in order to successfully train statistical models. Using vector representations can overcome some of these obstacles.\n",
    "\n",
    "We want these vectors to be created in such a way that they somehow represent the word and its context, meaning, and semantics. For example, we’d like the vectors for the words ‘tiger’ and ‘cat’ to reside in relatively the same area in the vector space when compared to ‘car’ since they’re both animals of the same family of species (viz., ‘Felidae’). The vector representation of a word is also known as a word embedding.\n",
    "\n",
    "To create these “word embedding” (i.e. vector representation of words), we will use the famous “Word2Vec” model instead of reinventing the wheel. The Word2Vec model is created by Google – one of the biggest players in the ML game and was trained on a massive Google News dataset that contained over 100 billion different words."
   ]
  },
  {
   "cell_type": "code",
   "execution_count": 3,
   "metadata": {},
   "outputs": [
    {
     "name": "stdout",
     "output_type": "stream",
     "text": [
      "Loaded the word vectors!\n",
      "Total number of words: 4087446\n",
      "Most common words: </s> the ,\n",
      "Least common words: Fl-NC(11-55) MAA-mediated balsalazide-treated\n"
     ]
    },
    {
     "name": "stderr",
     "output_type": "stream",
     "text": [
      "/home/sxd24/anaconda3/lib/python3.6/site-packages/ipykernel_launcher.py:5: DeprecationWarning: Call to deprecated `wv` (Attribute will be removed in 4.0.0, use self instead).\n",
      "  \"\"\"\n",
      "/home/sxd24/anaconda3/lib/python3.6/site-packages/ipykernel_launcher.py:9: DeprecationWarning: Call to deprecated `wv` (Attribute will be removed in 4.0.0, use self instead).\n",
      "  if __name__ == '__main__':\n",
      "/home/sxd24/anaconda3/lib/python3.6/site-packages/ipykernel_launcher.py:10: DeprecationWarning: Call to deprecated `wv` (Attribute will be removed in 4.0.0, use self instead).\n",
      "  # Remove the CWD from sys.path while we load stuff.\n"
     ]
    }
   ],
   "source": [
    "import gensim\n",
    "\n",
    "# Load pre-trained Word2Vec model\n",
    "modelWord2Vec = gensim.models.KeyedVectors.load_word2vec_format('../utils/PubMed-and-PMC-w2v.bin', binary=True)\n",
    "vocab_size = len(modelWord2Vec.wv.vocab)\n",
    "\n",
    "print('Loaded the word vectors!')\n",
    "print('Total number of words:', vocab_size)\n",
    "print('Most common words:', modelWord2Vec.wv.index2word[0], modelWord2Vec.wv.index2word[1], modelWord2Vec.wv.index2word[2])\n",
    "print('Least common words:', modelWord2Vec.wv.index2word[vocab_size-1], modelWord2Vec.wv.index2word[vocab_size-2], modelWord2Vec.wv.index2word[vocab_size-3])"
   ]
  },
  {
   "cell_type": "markdown",
   "metadata": {},
   "source": [
    "##### Demonstration - Word Embedding"
   ]
  },
  {
   "cell_type": "markdown",
   "metadata": {},
   "source": [
    "Let us demonstrate the word embedding by searching our word list for a word like \"malignancy\" and then access its corresponding vector through the embedding matrix and find out the terms which are close by."
   ]
  },
  {
   "cell_type": "code",
   "execution_count": 4,
   "metadata": {},
   "outputs": [
    {
     "name": "stdout",
     "output_type": "stream",
     "text": [
      "Most similar word to \"malignancy\":\n",
      "[('neoplasm', 0.7846177816390991), ('neoplasms', 0.7320481538772583), ('malignancies', 0.7179752588272095)]\n"
     ]
    }
   ],
   "source": [
    "print('Most similar word to \\\"malignancy\\\":')\n",
    "print(modelWord2Vec.most_similar(positive=\"malignancy\", topn=3))"
   ]
  },
  {
   "cell_type": "markdown",
   "metadata": {},
   "source": [
    "#### Vectorize our Vocabulary\n",
    "Set maximum size of the Vocabulary: In an ideal scenario, we would like to use the entire list of words. But due to limited memory availability we'll limit our vocabulary"
   ]
  },
  {
   "cell_type": "code",
   "execution_count": 5,
   "metadata": {},
   "outputs": [],
   "source": [
    "maxVocab = 100000\n",
    "wordsList = list(modelWord2Vec.vocab.keys())[:maxVocab]"
   ]
  },
  {
   "cell_type": "markdown",
   "metadata": {},
   "source": [
    "Create an array to hold the vector representation of all our vocabulary\n",
    "\n",
    "_Note: In case a given word is not present in our vocabulary, assign a random value_"
   ]
  },
  {
   "cell_type": "code",
   "execution_count": 6,
   "metadata": {},
   "outputs": [],
   "source": [
    "wordVectors = np.zeros((maxVocab, modelWord2Vec.vector_size), dtype='float32')\n",
    "idx = 0\n",
    "for word in wordsList:\n",
    "    if word in modelWord2Vec:\n",
    "        wordVectors[idx] = modelWord2Vec[word]\n",
    "    else:\n",
    "        wordVectors[idx] = np.random.uniform(low=-1, high=1, size=(200, ))\n",
    "    idx = idx+1"
   ]
  },
  {
   "cell_type": "markdown",
   "metadata": {},
   "source": [
    "## Import a \"test record\"\n",
    "Import a test record to test the functions until the main dataset is loaded. Being a single record, it'll also save time & memory during the sanity checks"
   ]
  },
  {
   "cell_type": "code",
   "execution_count": 7,
   "metadata": {},
   "outputs": [
    {
     "name": "stdout",
     "output_type": "stream",
     "text": [
      "PubMed ID: 27253005\n",
      "Title of the article: Childhood Vascular Tumors Treatment (PDQ(R)): Patient Version\n",
      "Abstract: This PDQ cancer information summary has current information about the treatment of childhood vascular tumors. It is meant to inform and help patients, families, and caregivers. It does not give formal guidelines or recommendations for making decisions about health care. Editorial Boards write the PDQ cancer information summaries and keep them up to date. These Boards are made up of experts in cancer treatment and other specialties related to cancer. The summaries are reviewed regularly and changes are made when there is new information. The date on each summary (\"Date Last Modified\") is the date of the most recent change. The information in this patient summary was taken from the health professional version, which is reviewed regularly and updated as needed, by the PDQ Pediatric Treatment Editorial Board.\n"
     ]
    }
   ],
   "source": [
    "with open(\"../data/medline_abstracts/medline_27253005.txt\") as handle:\n",
    "    testRecord = Medline.read(handle)\n",
    "    print(\"PubMed ID:\", testRecord['PMID'])\n",
    "    print(\"Title of the article:\", testRecord['TI'])\n",
    "    print(\"Abstract:\", testRecord['AB'])"
   ]
  },
  {
   "cell_type": "markdown",
   "metadata": {},
   "source": [
    "## Define Utility Functions & Values\n",
    "Define the functions and set the values which will be used throughout the script"
   ]
  },
  {
   "cell_type": "markdown",
   "metadata": {},
   "source": [
    "#### Import packages required for data cleansing"
   ]
  },
  {
   "cell_type": "code",
   "execution_count": 8,
   "metadata": {},
   "outputs": [
    {
     "name": "stdout",
     "output_type": "stream",
     "text": [
      "[nltk_data] Downloading package stopwords to /home/sxd24/nltk_data...\n",
      "[nltk_data]   Package stopwords is already up-to-date!\n",
      "[nltk_data] Downloading package punkt to /home/sxd24/nltk_data...\n",
      "[nltk_data]   Package punkt is already up-to-date!\n",
      "[nltk_data] Downloading package wordnet to /home/sxd24/nltk_data...\n",
      "[nltk_data]   Package wordnet is already up-to-date!\n"
     ]
    }
   ],
   "source": [
    "import re\n",
    "import nltk\n",
    "\n",
    "nltk.download('stopwords')\n",
    "nltk.download('punkt')\n",
    "nltk.download('wordnet')\n",
    "\n",
    "from nltk.corpus import stopwords\n",
    "from nltk.util import ngrams\n",
    "from nltk.tokenize import word_tokenize\n",
    "from nltk.stem.wordnet import WordNetLemmatizer\n",
    "from string import punctuation"
   ]
  },
  {
   "cell_type": "markdown",
   "metadata": {},
   "source": [
    "#### Define the Disease Category List\n",
    "Define a list with the category of diseases which we're trying to classify"
   ]
  },
  {
   "cell_type": "code",
   "execution_count": 9,
   "metadata": {},
   "outputs": [],
   "source": [
    "categoryList = defaultdict(list)\n",
    "categoryLabel = [\"hemic-and-lymphatic-diseases\", \"immune-system-diseases\", \"musculoskeletal-diseases\", \"neoplasms\", \"other\"]"
   ]
  },
  {
   "cell_type": "markdown",
   "metadata": {},
   "source": [
    "#### fnGetLabels - Function to return an array corresponding to a label\n",
    "Define a function which will convert a given category of disease into a corresponding encoded array "
   ]
  },
  {
   "cell_type": "code",
   "execution_count": 10,
   "metadata": {},
   "outputs": [],
   "source": [
    "def fnGetLabels(recIdx):\n",
    "    encodedLabel = np.zeros(len(categoryLabel), dtype='int32')\n",
    "    idx = 0\n",
    "    rec = whitelistedArticles[recIdx]\n",
    "    for label in categoryLabel:\n",
    "        if rec['diseaseCategory'] in label:\n",
    "            encodedLabel[idx] = 1\n",
    "        else:\n",
    "            encodedLabel[idx] = 0\n",
    "        idx = idx + 1\n",
    "    return encodedLabel"
   ]
  },
  {
   "cell_type": "markdown",
   "metadata": {},
   "source": [
    "#### Define text cleansing categories\n",
    "Define and set values for the text cleansing categories"
   ]
  },
  {
   "cell_type": "code",
   "execution_count": 11,
   "metadata": {},
   "outputs": [
    {
     "name": "stdout",
     "output_type": "stream",
     "text": [
      "Custom StopWords:\n",
      " {'do', \"haven't\", 'down', 'his', 'and', 'aren', 'been', 'while', 'there', 'be', 'shouldn', \"that'll\", 'myself', \"you've\", \"didn't\", 'few', 'wouldn', 'against', 'some', 'once', \"hasn't\", 'we', \"don't\", 'if', 'now', 'couldn', 'hasn', 'own', 'objective', \"isn't\", 'yours', 'its', 'than', 'doing', 'a', 'them', 'so', 'on', 'just', 'background', 'for', 'll', 'this', 'has', 'in', 'until', 'my', \"aren't\", 'at', 'these', 'i', 'or', \"wouldn't\", 'her', 'same', \"won't\", 'after', 'y', 'the', 'any', 'such', 'to', \"she's\", 'further', 'under', 's', 'shan', 'theirs', 'him', 'more', 'hadn', 'as', 'both', 'needn', 'then', 'up', 'how', 'haven', 'me', 'should', 'is', 'of', 'when', \"wasn't\", 'doesn', 'was', \"you'll\", 'during', 'weren', 'whom', 'mightn', 'but', 'didn', 'does', 'being', 'm', 'yourself', \"you're\", 'were', 'are', 'above', 're', 'having', 'who', 'ain', \"couldn't\", 'mustn', \"mustn't\", 'those', 'can', 'before', 'have', 'about', 'with', 'she', 'below', 'between', 'where', \"shouldn't\", 'herself', 'out', 'your', 'because', 'by', 'you', \"should've\", 'here', 'most', 'why', 'don', 'did', 'ma', 'what', 'o', \"doesn't\", \"you'd\", 'nor', \"needn't\", 'hers', 'again', 'ourselves', 'it', 'himself', 'their', 'won', 'through', \"shan't\", 'our', 'yourselves', 't', 'isn', 'will', 'they', 'am', 'each', 'off', \"hadn't\", 'itself', \"mightn't\", 'other', 'wasn', 'he', 'which', 'into', 'ours', 'that', \"weren't\", \"it's\", 'all', 'from', 'had', 'an', 'd', 'themselves', 'too', 've'}\n"
     ]
    }
   ],
   "source": [
    "blacklistStopWords = ['over', 'only', 'very', 'not', 'no']\n",
    "additionalStopWords = ['background', 'objective']\n",
    "customStopWords = set(stopwords.words('english') + additionalStopWords) - set(blacklistStopWords)\n",
    "\n",
    "print(\"Custom StopWords:\\n\", customStopWords)\n",
    "\n",
    "greekLetters = [\n",
    "    (r'α', 'alpha'),\n",
    "    (r'β', 'beta'),\n",
    "    (r'γ', 'gamma'),\n",
    "    (r'δ', 'delta')\n",
    "]\n",
    "\n",
    "negContractions = [\n",
    "    (r'aren\\'t', 'are not'),\n",
    "    (r'can\\'t', 'can not'),\n",
    "    (r'couldn\\'t', 'could not'),\n",
    "    (r'daren\\'t', 'dare not'),\n",
    "    (r'didn\\'t', 'did not'),\n",
    "    (r'doesn\\'t', 'does not'),\n",
    "    (r'don\\'t', 'do not'),\n",
    "    (r'isn\\'t', 'is not'),\n",
    "    (r'hasn\\'t', 'has not'),\n",
    "    (r'haven\\'t', 'have not'),\n",
    "    (r'hadn\\'t', 'had not'),\n",
    "    (r'mayn\\'t', 'may not'),\n",
    "    (r'mightn\\'t', 'might not'),\n",
    "    (r'mustn\\'t', 'must not'),\n",
    "    (r'needn\\'t', 'need not'),\n",
    "    (r'oughtn\\'t', 'ought not'),\n",
    "    (r'shan\\'t', 'shall not'),\n",
    "    (r'shouldn\\'t', 'should not'),\n",
    "    (r'wasn\\'t', 'was not'),\n",
    "    (r'weren\\'t', 'were not'),\n",
    "    (r'won\\'t', 'will not'),\n",
    "    (r'wouldn\\'t', 'would not'),\n",
    "    (r'ain\\'t', 'am not')\n",
    "]\n",
    "\n",
    "otherContractions = {\n",
    "    \"'m\": 'am',\n",
    "    \"'ll\": 'will',\n",
    "    \"'s\": 'has',\n",
    "    \"'d\": 'had'\n",
    "}\n",
    "\n",
    "stripSpecialChars = re.compile(\"[^A-Za-z0-9]+\")\n",
    "stripNA = re.compile(\"^ NA$\")\n",
    "lmtzr = WordNetLemmatizer()"
   ]
  },
  {
   "cell_type": "markdown",
   "metadata": {},
   "source": [
    "#### Define max word length\n",
    "Even though we'd like to use the entire abstract for prediction, due to hardware limitations we'll set the max word we'll consider per abstract. Similarly, for each sentence we'll set the max word length as 30 words."
   ]
  },
  {
   "cell_type": "code",
   "execution_count": 12,
   "metadata": {},
   "outputs": [],
   "source": [
    "maxFVWordLength = 300\n",
    "maxSentenceWordLength = 30"
   ]
  },
  {
   "cell_type": "markdown",
   "metadata": {},
   "source": [
    "#### fnCleanSentence - Function to cleanse the input text\n",
    "Define a function to clean a given sentence"
   ]
  },
  {
   "cell_type": "code",
   "execution_count": 13,
   "metadata": {},
   "outputs": [],
   "source": [
    "def fnCleanSentence(text):\n",
    "    text = re.sub(stripNA, \"\", text)\n",
    "    text = text.replace(\"<br />\", \" \")\n",
    "    return text"
   ]
  },
  {
   "cell_type": "markdown",
   "metadata": {},
   "source": [
    "#### fnComputeNGrams - Function to pre-process a given text\n",
    "Define a function to process a given text, like transformation, stemming, removing stop-words, etc."
   ]
  },
  {
   "cell_type": "code",
   "execution_count": 14,
   "metadata": {},
   "outputs": [],
   "source": [
    "def fnComputeNGrams(text, n, removeStopwords=True, stemWords=True):\n",
    "    text = text.strip()\n",
    "    text = text.lower()\n",
    "    text = re.sub(r\"[^A-Za-z0-9^,!.\\/'+-=]\", \" \", text)\n",
    "    sents = nltk.sent_tokenize(text)\n",
    "    allTokens = []\n",
    "    \n",
    "    for doc in sents:\n",
    "        \n",
    "        #--- Transform Negative Contractions ---#\n",
    "        for t in negContractions:\n",
    "            doc = re.sub(t[0], t[1], doc)\n",
    "        \n",
    "        #--- Transform Greek symbols ---#\n",
    "        for t in greekLetters:\n",
    "            doc = re.sub(t[0], t[1], doc)\n",
    "        \n",
    "        #--- Convert to lower case ---#\n",
    "        doc = doc.lower()        \n",
    "        \n",
    "        #--- Tokenize the words ---#\n",
    "        tokens = word_tokenize(doc)\n",
    "        \n",
    "        #--- If removal of stop words is requested, do the needful ---#\n",
    "        if removeStopwords:\n",
    "            #--- Transform other contractions ---#\n",
    "            tokens = [otherContractions[token] if otherContractions.get(token) else token for token in tokens]\n",
    "\n",
    "            #--- Remove punctuations ---#\n",
    "            r = r'[a-zA-Z]+'\n",
    "            tokens = [word for word in tokens if re.search(r, word)]\n",
    "\n",
    "            #--- Remove irrelevant stopwords ---#\n",
    "            tokens = [token for token in tokens if token not in customStopWords]\n",
    "        \n",
    "        #--- If stemmer is requested, perform stemming ---#\n",
    "        if stemWords:\n",
    "            #--- Lemmatize ---#\n",
    "            tokens = [lmtzr.lemmatize(token) for token in tokens]\n",
    "        \n",
    "        allTokens.extend(tokens)\n",
    "        \n",
    "    #--- If n = 1, then return the list of words (as if n=1, then n-grams = tokens), else compute n-grams ---#\n",
    "    if n == 1:\n",
    "        return allTokens\n",
    "    else:\n",
    "        return ngrams(allTokens, n)"
   ]
  },
  {
   "cell_type": "markdown",
   "metadata": {},
   "source": [
    "Check the data cleansing functions (as defined above) with a test record"
   ]
  },
  {
   "cell_type": "code",
   "execution_count": 15,
   "metadata": {},
   "outputs": [
    {
     "name": "stdout",
     "output_type": "stream",
     "text": [
      "Original Text:\n",
      " This PDQ cancer information summary has current information about the treatment of childhood vascular tumors. It is meant to inform and help patients, families, and caregivers. It does not give formal guidelines or recommendations for making decisions about health care. Editorial Boards write the PDQ cancer information summaries and keep them up to date. These Boards are made up of experts in cancer treatment and other specialties related to cancer. The summaries are reviewed regularly and changes are made when there is new information. The date on each summary (\"Date Last Modified\") is the date of the most recent change. The information in this patient summary was taken from the health professional version, which is reviewed regularly and updated as needed, by the PDQ Pediatric Treatment Editorial Board.\n",
      "\n",
      "Cleaned Text:\n",
      " This PDQ cancer information summary has current information about the treatment of childhood vascular tumors. It is meant to inform and help patients, families, and caregivers. It does not give formal guidelines or recommendations for making decisions about health care. Editorial Boards write the PDQ cancer information summaries and keep them up to date. These Boards are made up of experts in cancer treatment and other specialties related to cancer. The summaries are reviewed regularly and changes are made when there is new information. The date on each summary (\"Date Last Modified\") is the date of the most recent change. The information in this patient summary was taken from the health professional version, which is reviewed regularly and updated as needed, by the PDQ Pediatric Treatment Editorial Board.\n",
      "\n",
      "n-Gram computed from Text:\n",
      " ['pdq', 'cancer', 'information', 'summary', 'current', 'information', 'treatment', 'childhood', 'vascular', 'tumor', 'meant', 'inform', 'help', 'patient', 'family', 'caregiver', 'not', 'give', 'formal', 'guideline', 'recommendation', 'making', 'decision', 'health', 'care', 'editorial', 'board', 'write', 'pdq', 'cancer', 'information', 'summary', 'keep', 'date', 'board', 'made', 'expert', 'cancer', 'treatment', 'specialty', 'related', 'cancer', 'summary', 'reviewed', 'regularly', 'change', 'made', 'new', 'information', 'date', 'summary', 'date', 'last', 'modified', 'date', 'recent', 'change', 'information', 'patient', 'summary', 'taken', 'health', 'professional', 'version', 'reviewed', 'regularly', 'updated', 'needed', 'pdq', 'pediatric', 'treatment', 'editorial', 'board']\n"
     ]
    }
   ],
   "source": [
    "print(\"Original Text:\\n\", testRecord['AB'])\n",
    "print(\"\\nCleaned Text:\\n\", fnCleanSentence(testRecord['AB']))\n",
    "print(\"\\nn-Gram computed from Text:\\n\", fnComputeNGrams(testRecord['AB'], 1, True, True))"
   ]
  },
  {
   "cell_type": "markdown",
   "metadata": {},
   "source": [
    "#### fnGetArray - Function to convert a text into numerical array\n",
    "Define a function to convert a text into numerical array for feeding it into the LSTM model"
   ]
  },
  {
   "cell_type": "code",
   "execution_count": 16,
   "metadata": {},
   "outputs": [],
   "source": [
    "def fnGetArray(articleRec):\n",
    "    \n",
    "    #--- Define the empty array ---#\n",
    "    equivArray = np.zeros((maxFVWordLength), dtype='int32')\n",
    "    \n",
    "    idxCnt = 0\n",
    "    print(\"Abstracts:\", articleRec['AB'])\n",
    "    cleanedAbstract = fnCleanSentence(articleRec['AB'])\n",
    "    split = fnComputeNGrams(cleanedAbstract, 1, True, True)\n",
    "    for word in split:\n",
    "        if idxCnt >= maxFVWordLength:\n",
    "            break\n",
    "        try:\n",
    "            equivArray[idxCnt] = wordsList.index(word)\n",
    "        except ValueError:\n",
    "            equivArray[idxCnt] = maxVocab - 1 #conflate all unknown words to this one\n",
    "        idxCnt = idxCnt + 1\n",
    "    return equivArray"
   ]
  },
  {
   "cell_type": "markdown",
   "metadata": {},
   "source": [
    "Check the function fnGetArray to check if the conversion of text to numeric array is working"
   ]
  },
  {
   "cell_type": "code",
   "execution_count": 17,
   "metadata": {},
   "outputs": [
    {
     "name": "stdout",
     "output_type": "stream",
     "text": [
      "Original Text:\n",
      " This PDQ cancer information summary has current information about the treatment of childhood vascular tumors. It is meant to inform and help patients, families, and caregivers. It does not give formal guidelines or recommendations for making decisions about health care. Editorial Boards write the PDQ cancer information summaries and keep them up to date. These Boards are made up of experts in cancer treatment and other specialties related to cancer. The summaries are reviewed regularly and changes are made when there is new information. The date on each summary (\"Date Last Modified\") is the date of the most recent change. The information in this patient summary was taken from the health professional version, which is reviewed regularly and updated as needed, by the PDQ Pediatric Treatment Editorial Board.\n",
      "Abstracts: This PDQ cancer information summary has current information about the treatment of childhood vascular tumors. It is meant to inform and help patients, families, and caregivers. It does not give formal guidelines or recommendations for making decisions about health care. Editorial Boards write the PDQ cancer information summaries and keep them up to date. These Boards are made up of experts in cancer treatment and other specialties related to cancer. The summaries are reviewed regularly and changes are made when there is new information. The date on each summary (\"Date Last Modified\") is the date of the most recent change. The information in this patient summary was taken from the health professional version, which is reviewed regularly and updated as needed, by the PDQ Pediatric Treatment Editorial Board.\n",
      "\n",
      "Corresponding Array:\n",
      " [99999   120   248  2450   382   248    58  2033   667   209 11781  7003\n",
      "  1142   145   405  9904    29  1978  5248  6885  7805  1768  2012   166\n",
      "   207 17560  7153 14280 99999   120   248  2450  5839  1747  7153   490\n",
      "  5186   120    58  8617   241   120  2450  1173  6165   316   490   183\n",
      "   248  1747  2450  1747  1030  1015  1747   555   316   248   145  2450\n",
      "   862   166  2929  1621  1173  6165  7165   905 99999  2071    58 17560\n",
      "  7153     0     0     0     0     0     0     0     0     0     0     0\n",
      "     0     0     0     0     0     0     0     0     0     0     0     0\n",
      "     0     0     0     0     0     0     0     0     0     0     0     0\n",
      "     0     0     0     0     0     0     0     0     0     0     0     0\n",
      "     0     0     0     0     0     0     0     0     0     0     0     0\n",
      "     0     0     0     0     0     0     0     0     0     0     0     0\n",
      "     0     0     0     0     0     0     0     0     0     0     0     0\n",
      "     0     0     0     0     0     0     0     0     0     0     0     0\n",
      "     0     0     0     0     0     0     0     0     0     0     0     0\n",
      "     0     0     0     0     0     0     0     0     0     0     0     0\n",
      "     0     0     0     0     0     0     0     0     0     0     0     0\n",
      "     0     0     0     0     0     0     0     0     0     0     0     0\n",
      "     0     0     0     0     0     0     0     0     0     0     0     0\n",
      "     0     0     0     0     0     0     0     0     0     0     0     0\n",
      "     0     0     0     0     0     0     0     0     0     0     0     0\n",
      "     0     0     0     0     0     0     0     0     0     0     0     0\n",
      "     0     0     0     0     0     0     0     0     0     0     0     0\n",
      "     0     0     0     0     0     0     0     0     0     0     0     0\n",
      "     0     0     0     0     0     0     0     0     0     0     0     0]\n"
     ]
    }
   ],
   "source": [
    "print(\"Original Text:\\n\", testRecord['AB'])\n",
    "print(\"\\nCorresponding Array:\\n\", fnGetArray(testRecord))"
   ]
  },
  {
   "cell_type": "markdown",
   "metadata": {},
   "source": [
    "#### Set the disease categories\n",
    "Set the disease categories"
   ]
  },
  {
   "cell_type": "code",
   "execution_count": 18,
   "metadata": {},
   "outputs": [
    {
     "name": "stdout",
     "output_type": "stream",
     "text": [
      "diseaseCategories:\n",
      " [{'diseaseType': 'hemic-and-lymphatic-diseases', 'fileName': '../data/medline_abstracts/hemic-and-lymphatic-diseases.medline.txt'}, {'diseaseType': 'immune-system-diseases', 'fileName': '../data/medline_abstracts/immune-system-diseases.medline.txt'}, {'diseaseType': 'musculoskeletal-diseases', 'fileName': '../data/medline_abstracts/musculoskeletal-diseases.medline.txt'}, {'diseaseType': 'neoplasms', 'fileName': '../data/medline_abstracts/neoplasms.medline.txt'}, {'diseaseType': 'other', 'fileName': '../data/medline_abstracts/none-of-the-above.medline.txt'}]\n"
     ]
    }
   ],
   "source": [
    "diseaseCategories = []\n",
    "\n",
    "diseaseCategoryRec = {'diseaseType': 'hemic-and-lymphatic-diseases', 'fileName': '../data/medline_abstracts/hemic-and-lymphatic-diseases.medline.txt'}\n",
    "diseaseCategories.append(diseaseCategoryRec)\n",
    "\n",
    "diseaseCategoryRec = {'diseaseType': 'immune-system-diseases', 'fileName': '../data/medline_abstracts/immune-system-diseases.medline.txt'}\n",
    "diseaseCategories.append(diseaseCategoryRec)\n",
    "\n",
    "diseaseCategoryRec = {'diseaseType': 'musculoskeletal-diseases', 'fileName': '../data/medline_abstracts/musculoskeletal-diseases.medline.txt'}\n",
    "diseaseCategories.append(diseaseCategoryRec)\n",
    "\n",
    "diseaseCategoryRec = {'diseaseType': 'neoplasms', 'fileName': '../data/medline_abstracts/neoplasms.medline.txt'}\n",
    "diseaseCategories.append(diseaseCategoryRec)\n",
    "\n",
    "diseaseCategoryRec = {'diseaseType': 'other', 'fileName': '../data/medline_abstracts/none-of-the-above.medline.txt'}\n",
    "diseaseCategories.append(diseaseCategoryRec)\n",
    "\n",
    "print(\"diseaseCategories:\\n\", diseaseCategories)"
   ]
  },
  {
   "cell_type": "markdown",
   "metadata": {},
   "source": [
    "## Load and Prepare the Data"
   ]
  },
  {
   "cell_type": "markdown",
   "metadata": {},
   "source": [
    "#### Define the datasets for holding the data"
   ]
  },
  {
   "cell_type": "code",
   "execution_count": 19,
   "metadata": {},
   "outputs": [],
   "source": [
    "quarantineArticles = []\n",
    "whitelistedArticles = []"
   ]
  },
  {
   "cell_type": "markdown",
   "metadata": {},
   "source": [
    "#### Load the MEDLINE data (MEDLINE format)\n",
    "Set the baseline for minumum number of words in each abstract for the abstract to be qualified for processing. If it does not meet the criteria, discard the article"
   ]
  },
  {
   "cell_type": "code",
   "execution_count": 20,
   "metadata": {},
   "outputs": [
    {
     "name": "stdout",
     "output_type": "stream",
     "text": [
      "\n",
      "Category: hemic-and-lymphatic-diseases\n",
      "File Name: ../data/medline_abstracts/hemic-and-lymphatic-diseases.medline.txt\n",
      "For category, hemic-and-lymphatic-diseases number of discarded articles =  1\n",
      "For category, hemic-and-lymphatic-diseases number of white-listed articles =  12242\n",
      "\n",
      "Category: immune-system-diseases\n",
      "File Name: ../data/medline_abstracts/immune-system-diseases.medline.txt\n",
      "For category, immune-system-diseases number of discarded articles =  2\n",
      "For category, immune-system-diseases number of white-listed articles =  23963\n",
      "\n",
      "Category: musculoskeletal-diseases\n",
      "File Name: ../data/medline_abstracts/musculoskeletal-diseases.medline.txt\n",
      "For category, musculoskeletal-diseases number of discarded articles =  4\n",
      "For category, musculoskeletal-diseases number of white-listed articles =  17923\n",
      "\n",
      "Category: neoplasms\n",
      "File Name: ../data/medline_abstracts/neoplasms.medline.txt\n",
      "For category, neoplasms number of discarded articles =  7\n",
      "For category, neoplasms number of white-listed articles =  30559\n",
      "\n",
      "Category: other\n",
      "File Name: ../data/medline_abstracts/none-of-the-above.medline.txt\n",
      "For category, other number of discarded articles =  2\n",
      "For category, other number of white-listed articles =  12247\n",
      "\n",
      "For categories, total number of discarded articles =  16\n",
      "For all categories, total number of white-listed articles =  96934\n"
     ]
    }
   ],
   "source": [
    "minAbstractLength = 25\n",
    "\n",
    "for medlineCategory in diseaseCategories:\n",
    "    print(\"\\nCategory:\", medlineCategory['diseaseType'])\n",
    "    print(\"File Name:\", medlineCategory['fileName'])\n",
    "    \n",
    "    numQuarantinedRec = 0\n",
    "    numWhitelistedRec = 0\n",
    "    \n",
    "    with open(medlineCategory['fileName'], \"r\", encoding='utf-8') as f:\n",
    "        recArticle = Medline.parse(f)\n",
    "        for rec in recArticle:\n",
    "            lenAbstract = len(rec['AB'])\n",
    "            lenFeatureVector = len(rec['TI']) + len(rec['AB'])\n",
    "            articleRec = {'PMID': rec['PMID'], 'diseaseCategory': medlineCategory['diseaseType'], 'FV': rec['TI']+rec['AB'], 'numWords': lenFeatureVector}\n",
    "            if lenAbstract < minAbstractLength:\n",
    "                quarantineArticles.append(articleRec)\n",
    "                numQuarantinedRec = numQuarantinedRec + 1\n",
    "            else:\n",
    "                whitelistedArticles.append(articleRec)\n",
    "                numWhitelistedRec = numWhitelistedRec + 1\n",
    "    \n",
    "    print(\"For category,\", medlineCategory['diseaseType'], \"number of discarded articles = \", numQuarantinedRec)\n",
    "    print(\"For category,\", medlineCategory['diseaseType'], \"number of white-listed articles = \", numWhitelistedRec)\n",
    "    \n",
    "#--- Print the final numbers ---#\n",
    "print(\"\\nFor categories, total number of discarded articles = \", len(quarantineArticles))\n",
    "print(\"For all categories, total number of white-listed articles = \", len(whitelistedArticles))"
   ]
  },
  {
   "cell_type": "markdown",
   "metadata": {},
   "source": [
    "Check the discarded records for assurity"
   ]
  },
  {
   "cell_type": "code",
   "execution_count": 21,
   "metadata": {},
   "outputs": [
    {
     "name": "stdout",
     "output_type": "stream",
     "text": [
      "Discarded records:\n",
      "\n",
      "29033247 113 hemic-and-lymphatic-diseases Progressive reticulate skin pigmentation and anonychia in a patient with bone marrow failure.KEY TEACHING POINTS.\n",
      "28536734 102 immune-system-diseases Livedo Reticularis on the Lower Limbs in a Patient with Lupus Erythematosus: A Quiz.is missing (Quiz).\n",
      "28251232 87 immune-system-diseases Oral diseases associated with fixed prosthodontic restorations.[No Abstract Available].\n",
      "29076861 103 musculoskeletal-diseases Nondrug Interventions Reduce Pain and Opioid Use After Total Knee Arthroplasty.According to this study.\n",
      "29033247 113 musculoskeletal-diseases Progressive reticulate skin pigmentation and anonychia in a patient with bone marrow failure.KEY TEACHING POINTS.\n",
      "28440364 91 musculoskeletal-diseases Diagnosis of an actively bleeding rectus sheath hematoma by Contrast- Enhanced ultrasound..\n",
      "28440363 97 musculoskeletal-diseases Ultrasound Imaging for Posterior Knee Pain: Tibial Nerve Schwannoma Not Popliteus Muscle Strain..\n",
      "29076862 106 neoplasms Similar Mortality Rates After Surgery or Observation of Localized Prostate Cancer.According to this study.\n",
      "28686217 93 neoplasms Meta-Analysis on Dietary Patterns and Pancreatic Cancer Risk: Methodological Limitations.n/a.\n",
      "28686193 88 neoplasms Reply to Alizadeh's Letter to the Editor Re: Lu, P.Y. et al., Nutrients 2017, 9, 38.n/a.\n",
      "28629197 243 neoplasms Reply to the Letter to the Editor by C. Nicolazzo et al.: \"Circulating Cell-Free DNA and Circulating Tumor Cells as Prognostic and Predictive Biomarkers in Advanced Non-Small Cell Lung Cancer Patients Treated with First-Line Chemotherapy\".n/a.\n",
      "28629196 207 neoplasms Letter to the Editor: \"Circulating Cell-Free DNA and Circulating Tumor Cells as Prognostic and Predictive Biomarkers in Advanced Non-Small Cell Lung Cancer Patients Treated with First-Line Chemotherapy\".n/a.\n",
      "28578450 150 neoplasms Serologic evidence of Toxoplasma gondii infection among cancer patients. A prospective study from Qassim region, Saudi Arabia.[No Abstract Available].\n",
      "28561877 79 neoplasms Subcutaneous Nodule on the Right Palm of a Young Boy: A Quiz.is missing (Quiz).\n",
      "28000494 42 other Twiddler's syndrome.No abstract available.\n",
      "27444081 88 other Early-onset stroke, polyarteritis nodosa (PAN), and livedo racemosa.KEY TEACHING POINTS.\n"
     ]
    }
   ],
   "source": [
    "print (\"Discarded records:\\n\")\n",
    "for rec in quarantineArticles:\n",
    "    print(rec['PMID'], rec['numWords'], rec['diseaseCategory'], rec['FV'])"
   ]
  },
  {
   "cell_type": "markdown",
   "metadata": {},
   "source": [
    "#### Shuffle the data to achieve randomness\n",
    "Shuffle the \"whitelist\" dataset multiple times so that we get a random order and records are not ordered by disease"
   ]
  },
  {
   "cell_type": "code",
   "execution_count": 22,
   "metadata": {},
   "outputs": [],
   "source": [
    "np.random.shuffle(whitelistedArticles)\n",
    "np.random.shuffle(whitelistedArticles)"
   ]
  },
  {
   "cell_type": "markdown",
   "metadata": {},
   "source": [
    "##### Persist the data for reloadability\n",
    "Save the data onto disk as numpy arrays for easier reloads"
   ]
  },
  {
   "cell_type": "code",
   "execution_count": 23,
   "metadata": {},
   "outputs": [],
   "source": [
    "np.save('../data/medline_abstracts/npQuarantineArticles_CloselyAssociatedDiseases', quarantineArticles)\n",
    "np.save('../data/medline_abstracts/npWhiteListArticles_CloselyAssociatedDiseases', whitelistedArticles)"
   ]
  },
  {
   "cell_type": "markdown",
   "metadata": {},
   "source": [
    "#### Data Profiling\n",
    "Perform data profiling and also re-confirm the validity of the hypothesis made before"
   ]
  },
  {
   "cell_type": "code",
   "execution_count": 24,
   "metadata": {},
   "outputs": [
    {
     "name": "stdout",
     "output_type": "stream",
     "text": [
      "Number of articles discarded due to smaller than threshold abstracts = 16\n",
      "Number of articles that will be processed = 96934\n"
     ]
    }
   ],
   "source": [
    "numQuarantined = len(quarantineArticles)\n",
    "numWhiteListArticles = len(whitelistedArticles)\n",
    "\n",
    "print(\"Number of articles discarded due to smaller than threshold abstracts =\", numQuarantined)\n",
    "print(\"Number of articles that will be processed =\", numWhiteListArticles)"
   ]
  },
  {
   "cell_type": "markdown",
   "metadata": {},
   "source": [
    "#### Calculate the Metrices\n",
    "Calculate the following metrices:\n",
    "* Number of words per abstract\n",
    "* Number of sentences per abstract\n",
    "* Number of words per sentence per abstract"
   ]
  },
  {
   "cell_type": "code",
   "execution_count": 25,
   "metadata": {},
   "outputs": [
    {
     "name": "stdout",
     "output_type": "stream",
     "text": [
      "Convert whitelistedArticles into dataframe\n",
      "       PMID           diseaseCategory  \\\n",
      "0  28363295  musculoskeletal-diseases   \n",
      "1  28188909  musculoskeletal-diseases   \n",
      "2  28636109  musculoskeletal-diseases   \n",
      "3  28704329                 neoplasms   \n",
      "4  28813639                 neoplasms   \n",
      "\n",
      "                                                  FV  numWords  \n",
      "0  Biological Principles of Scar and Contracture....       700  \n",
      "1  Extensive preclinical evaluation of an inflixi...      1255  \n",
      "2  Xq26.1-26.3 duplication including MOSPD1 and G...      1316  \n",
      "3  Long-Term Oncological Outcome After Convention...      1996  \n",
      "4  Exploitation of Gene Expression and Cancer Bio...      1794  \n"
     ]
    }
   ],
   "source": [
    "wordCntPerSentence = []\n",
    "wordCntPerFV = []\n",
    "sentenceCntPerFV = []\n",
    "\n",
    "print(\"Convert whitelistedArticles into dataframe\")\n",
    "dfWhiteListArticles = pd.DataFrame(whitelistedArticles, columns=['PMID', 'diseaseCategory', 'FV', 'numWords'])\n",
    "print(dfWhiteListArticles.head(5))\n",
    "\n",
    "for fv in dfWhiteListArticles['FV']:\n",
    "    words = fv.split(' ')\n",
    "    wordCntPerFV.append(len(words))\n",
    "    \n",
    "    sentences = fv.split('.')\n",
    "    sentenceCntPerFV.append(len(sentences))\n",
    "    \n",
    "    for sentence in sentences:\n",
    "        words = sentence.split(' ')\n",
    "        wordCntPerSentence.append(len(words))"
   ]
  },
  {
   "cell_type": "markdown",
   "metadata": {},
   "source": [
    "Print the number of words per content for 50 articles to eyeball the count"
   ]
  },
  {
   "cell_type": "code",
   "execution_count": 26,
   "metadata": {},
   "outputs": [
    {
     "name": "stdout",
     "output_type": "stream",
     "text": [
      "[160, 186, 271, 257, 214, 93, 272, 118, 180, 240, 51, 90, 165, 110, 369, 200, 148, 171, 284, 404, 132, 164, 159, 221, 218, 266, 278, 150, 224, 299, 266, 210, 164, 166, 268, 238, 392, 390, 711, 239, 331, 281, 139, 268, 184, 167, 98, 144, 165]\n"
     ]
    }
   ],
   "source": [
    "print(wordCntPerFV[1:50])"
   ]
  },
  {
   "cell_type": "markdown",
   "metadata": {},
   "source": [
    "Plot the data to visualize the distribution of words by content"
   ]
  },
  {
   "cell_type": "code",
   "execution_count": 27,
   "metadata": {},
   "outputs": [
    {
     "data": {
      "image/png": "[encoded data removed]",
      "text/plain": [
       "<Figure size 432x288 with 1 Axes>"
      ]
     },
     "metadata": {},
     "output_type": "display_data"
    },
    {
     "name": "stdout",
     "output_type": "stream",
     "text": [
      "Median of the number of words per content = 231.0\n"
     ]
    }
   ],
   "source": [
    "%matplotlib inline\n",
    "plt.hist(wordCntPerFV, bins=125, range=(0, 750))\n",
    "plt.xlabel('Number of Words per Content')\n",
    "plt.ylabel('Frequency')\n",
    "plt.show()\n",
    "\n",
    "print(\"Median of the number of words per content =\", np.median(wordCntPerFV))"
   ]
  },
  {
   "cell_type": "markdown",
   "metadata": {},
   "source": [
    "Based on the above histogram we can say that our hypothesis of setting the maxFVWordLength to the value we've chosen earlier holds good!"
   ]
  },
  {
   "cell_type": "code",
   "execution_count": 28,
   "metadata": {},
   "outputs": [
    {
     "data": {
      "image/png": "[encoded data removed]",
      "text/plain": [
       "<Figure size 432x288 with 1 Axes>"
      ]
     },
     "metadata": {},
     "output_type": "display_data"
    },
    {
     "name": "stdout",
     "output_type": "stream",
     "text": [
      "Median of the number of sentences per content = 14.0\n"
     ]
    }
   ],
   "source": [
    "%matplotlib inline\n",
    "plt.hist(sentenceCntPerFV, bins=50, range=(0, 100))\n",
    "plt.xlabel('Number of Sentences per Content')\n",
    "plt.ylabel('Frequency')\n",
    "plt.show()\n",
    "\n",
    "print(\"Median of the number of sentences per content =\", np.median(sentenceCntPerFV))"
   ]
  },
  {
   "cell_type": "code",
   "execution_count": 29,
   "metadata": {},
   "outputs": [
    {
     "data": {
      "image/png": "[encoded data removed]",
      "text/plain": [
       "<Figure size 432x288 with 1 Axes>"
      ]
     },
     "metadata": {},
     "output_type": "display_data"
    },
    {
     "name": "stdout",
     "output_type": "stream",
     "text": [
      "Median of the number of words per sentences = 15.0\n"
     ]
    }
   ],
   "source": [
    "%matplotlib inline\n",
    "plt.hist(wordCntPerSentence, bins=25, range=(0, 75))\n",
    "plt.xlabel('Number of Words per Sentence')\n",
    "plt.ylabel('Frequency')\n",
    "plt.show()\n",
    "\n",
    "print(\"Median of the number of words per sentences =\", np.median(wordCntPerSentence))"
   ]
  },
  {
   "cell_type": "markdown",
   "metadata": {},
   "source": [
    "Based on the above histogram we can say that our hypothesis of setting the maxSentenceWordLength to the value we've chosen earlier holds good!"
   ]
  },
  {
   "cell_type": "code",
   "execution_count": 30,
   "metadata": {},
   "outputs": [
    {
     "name": "stdout",
     "output_type": "stream",
     "text": [
      "Total number of articles = 96934\n",
      "Median of the number of sentences per content = 14.0\n",
      "Median of the number of words per content = 231.0\n",
      "Median of the number of words per sentences of articles = 15.0\n"
     ]
    }
   ],
   "source": [
    "print(\"Total number of articles =\", numWhiteListArticles)\n",
    "print(\"Median of the number of sentences per content =\", np.median(sentenceCntPerFV))\n",
    "print(\"Median of the number of words per content =\", np.median(wordCntPerFV))\n",
    "print(\"Median of the number of words per sentences of articles =\", np.median(wordCntPerSentence))"
   ]
  },
  {
   "cell_type": "markdown",
   "metadata": {},
   "source": [
    "#### Vectorize the data - Encode all the Labels & Content\n",
    "Convert all articles into categorized labels and all the contents into vectors"
   ]
  },
  {
   "cell_type": "code",
   "execution_count": 31,
   "metadata": {},
   "outputs": [
    {
     "name": "stdout",
     "output_type": "stream",
     "text": [
      "Starting data encoding @ 2018-05-17 11:00:09\n",
      "\n",
      "Checkpoint 1 @ 2018-05-17 11:06:44 :: 10000 articles processed\n",
      "\n",
      "Checkpoint 2 @ 2018-05-17 11:13:23 :: 20000 articles processed\n",
      "\n",
      "Checkpoint 3 @ 2018-05-17 11:20:00 :: 30000 articles processed\n",
      "\n",
      "Checkpoint 4 @ 2018-05-17 11:26:34 :: 40000 articles processed\n",
      "\n",
      "Checkpoint 5 @ 2018-05-17 11:33:14 :: 50000 articles processed\n",
      "\n",
      "Checkpoint 6 @ 2018-05-17 11:39:50 :: 60000 articles processed\n",
      "\n",
      "Checkpoint 7 @ 2018-05-17 11:46:28 :: 70000 articles processed\n",
      "\n",
      "Checkpoint 8 @ 2018-05-17 11:53:05 :: 80000 articles processed\n",
      "\n",
      "Checkpoint 9 @ 2018-05-17 11:59:42 :: 90000 articles processed\n",
      "Completed data encoding @ 2018-05-17 12:04:07\n"
     ]
    }
   ],
   "source": [
    "print(\"Starting data encoding @\", datetime.datetime.now().strftime(\"%Y-%m-%d %H:%M:%S\"))\n",
    "\n",
    "#--- Shuffle the dataset for one last time before encoding ---#\n",
    "np.random.shuffle(whitelistedArticles)\n",
    "\n",
    "articleIdx = 0\n",
    "articleToID = {}\n",
    "encodedLabels = np.zeros((numWhiteListArticles, len(categoryLabel)), dtype='int32')\n",
    "encodedFV = np.zeros((numWhiteListArticles, maxFVWordLength), dtype='int32')\n",
    "\n",
    "articleToIDChkPoint = \"../data/medline_abstracts/checkpoints/articleToID.checkpoint-\"\n",
    "encodedLabelChkPoint = \"../data/medline_abstracts/checkpoints/encodedLabel.checkpoint-\"\n",
    "encodedFVChkPoint = \"../data/medline_abstracts/checkpoints/encodedFV.checkpoint-\"\n",
    "\n",
    "#--- Loop through all white-listed articles in the dataset and convert them into vector ---#\n",
    "for articleRec in whitelistedArticles:\n",
    "    \n",
    "    #--- Convert the articles into IDs ---#\n",
    "    articlePMID = articleRec['PMID']\n",
    "    articleToID[articlePMID] = articleIdx\n",
    "    \n",
    "    #--- Encode the labels ---#\n",
    "    encodedLabels[articleIdx] = fnGetLabels(articleIdx)\n",
    "    \n",
    "    #--- Encode the feature vectors ---#\n",
    "    wordCounter = 0\n",
    "    cleanedFV = fnCleanSentence(articleRec['FV'])\n",
    "    split = fnComputeNGrams(cleanedFV, 1, True, True)\n",
    "    \n",
    "    for word in split:\n",
    "        try:\n",
    "            encodedFV[articleIdx][wordCounter] = wordsList.index(word)\n",
    "        except:\n",
    "            #--- Assign all unknown words to the maximum value possible ---#\n",
    "            encodedFV[articleIdx][wordCounter] = maxVocab - 1\n",
    "        #--- Increment the wordCounter ---#\n",
    "        wordCounter = wordCounter + 1\n",
    "        if wordCounter >= maxFVWordLength:\n",
    "            break\n",
    "        \n",
    "    #--- Increment the articleIdx ---#\n",
    "    articleIdx = articleIdx + 1\n",
    "    \n",
    "    #--- Checkpoint ---#\n",
    "    if articleIdx % 10000 == 0:\n",
    "        numChkPoint = int(articleIdx / 10000)\n",
    "        print(\"\\nCheckpoint\", numChkPoint, \"@\", datetime.datetime.now().strftime(\"%Y-%m-%d %H:%M:%S\"), \"::\", articleIdx, \"articles processed\")\n",
    "        np.save(articleToIDChkPoint+str(numChkPoint), articleToID)\n",
    "        np.save(encodedLabelChkPoint+str(numChkPoint), encodedLabels)\n",
    "        np.save(encodedFVChkPoint+str(numChkPoint), encodedFV)\n",
    "\n",
    "#--- Persist the final encoded dataset ---#\n",
    "np.save('../data/medline_abstracts/articleToID', articleToID)\n",
    "np.save('../data/medline_abstracts/encodedLabels', encodedLabels)\n",
    "np.save('../data/medline_abstracts/encodedFV', encodedFV)\n",
    "\n",
    "print(\"Completed data encoding @\", datetime.datetime.now().strftime(\"%Y-%m-%d %H:%M:%S\"))"
   ]
  },
  {
   "cell_type": "markdown",
   "metadata": {},
   "source": [
    "##### Remove the checkpoint files"
   ]
  },
  {
   "cell_type": "code",
   "execution_count": 32,
   "metadata": {},
   "outputs": [
    {
     "data": {
      "text/plain": [
       "0"
      ]
     },
     "execution_count": 32,
     "metadata": {},
     "output_type": "execute_result"
    }
   ],
   "source": [
    "os.system('rm -f ../data/medline_abstracts/checkpoints/*.checkpoint-*.npy')"
   ]
  },
  {
   "cell_type": "markdown",
   "metadata": {},
   "source": [
    "Eye ball the encoding, as done above"
   ]
  },
  {
   "cell_type": "code",
   "execution_count": 33,
   "metadata": {},
   "outputs": [
    {
     "name": "stdout",
     "output_type": "stream",
     "text": [
      "articleToID for PMID = 29538200\n",
      " 41012\n",
      "Disease Label for PMID = 29538200\n",
      " [1 0 0 0 0]\n",
      "Encoded Abstract for PMID = 29538200\n",
      " [99999  7314  1010   516   429   603  4104  5125   925   195   327   414\n",
      " 99999 50722   424  2467  1010    87   677 61403 16363  1680   709   566\n",
      "  1065  1400 15560   505   331  6484   505  6756   314   505 10691   505\n",
      "  3097  4279  9315    48   416 27016  1906   287 99999  7314   145  3062\n",
      "   327   195 29136  2075  1026 14671  9604  4824   263   145  1656   429\n",
      "   603  4104  5125   925   566 99999   111  4086   959  1812 14688  2140\n",
      " 29141  1207  1123   404  3749 17698 99999  7172  4347   203 99999  7314\n",
      "   740   333  1418  7114  1410   303 99999  1242    93   236 12393 17481\n",
      "    48   522   145  3526   133  9262 24048 28179  2467  1010    87   532\n",
      " 73066   429   566  1065 61403   759 99999  7314  4109   947  1553    89\n",
      "   456   253   454    58    87   599   745    37   905  7466   641  7188\n",
      "  3075  1038  1881    93   182   172  1063 12426    92 99999  7314   807\n",
      "   145   522     0     0     0     0     0     0     0     0     0     0\n",
      "     0     0     0     0     0     0     0     0     0     0     0     0\n",
      "     0     0     0     0     0     0     0     0     0     0     0     0\n",
      "     0     0     0     0     0     0     0     0     0     0     0     0\n",
      "     0     0     0     0     0     0     0     0     0     0     0     0\n",
      "     0     0     0     0     0     0     0     0     0     0     0     0\n",
      "     0     0     0     0     0     0     0     0     0     0     0     0\n",
      "     0     0     0     0     0     0     0     0     0     0     0     0\n",
      "     0     0     0     0     0     0     0     0     0     0     0     0\n",
      "     0     0     0     0     0     0     0     0     0     0     0     0\n",
      "     0     0     0     0     0     0     0     0     0     0     0     0\n",
      "     0     0     0     0     0     0     0     0     0     0     0     0\n",
      "     0     0     0     0     0     0     0     0     0     0     0     0]\n"
     ]
    }
   ],
   "source": [
    "print(\"articleToID for PMID = 29538200\\n\", articleToID['29538200'])\n",
    "print(\"Disease Label for PMID = 29538200\\n\", encodedLabels[articleToID['29538200']])\n",
    "print(\"Encoded Abstract for PMID = 29538200\\n\", encodedFV[articleToID['29538200']])"
   ]
  },
  {
   "cell_type": "markdown",
   "metadata": {},
   "source": [
    "#### fnLoadData - Function to split the dataset and make it ready for LSTM\n",
    "Develop a function which will take the dataset and split it and return a LSTM ready dataset"
   ]
  },
  {
   "cell_type": "code",
   "execution_count": 34,
   "metadata": {},
   "outputs": [],
   "source": [
    "def fnLoadData(splitRatio):\n",
    "    print(\"Starting the data wrangling @\", datetime.datetime.now().strftime(\"%Y-%m-%d %H:%M:%S\"))\n",
    "    \n",
    "    numTestSet = int(numWhiteListArticles*splitRatio)\n",
    "    numTrainingSet = numWhiteListArticles - numTestSet\n",
    "    print(\"Size of Test Set =\", numTestSet)\n",
    "    print(\"Size of Training Set =\", numTrainingSet)\n",
    "    \n",
    "    x_train = encodedFV[0:numTrainingSet, ]\n",
    "    y_train = encodedLabels[0:numTrainingSet, ]\n",
    "    \n",
    "    x_test = encodedFV[numTrainingSet:numWhiteListArticles, ]\n",
    "    y_test = encodedLabels[numTrainingSet:numWhiteListArticles, ]\n",
    "    \n",
    "    return (x_train, y_train), (x_test, y_test)"
   ]
  },
  {
   "cell_type": "markdown",
   "metadata": {},
   "source": [
    "## Create Training and Validation Datasets"
   ]
  },
  {
   "cell_type": "markdown",
   "metadata": {},
   "source": [
    "#### Split the dataset into training & test data\n",
    "Split the entire dataset into training data and test data. As of now, we'll keep 80% of the data for training and 20% for testing"
   ]
  },
  {
   "cell_type": "code",
   "execution_count": 35,
   "metadata": {},
   "outputs": [
    {
     "name": "stdout",
     "output_type": "stream",
     "text": [
      "Starting the data wrangling @ 2018-05-17 13:36:28\n",
      "Size of Test Set = 19386\n",
      "Size of Training Set = 77548\n"
     ]
    }
   ],
   "source": [
    "(x_train, y_train), (x_test, y_test) = fnLoadData(0.2)"
   ]
  },
  {
   "cell_type": "markdown",
   "metadata": {},
   "source": [
    "Check the dimensions of the training and test data sets"
   ]
  },
  {
   "cell_type": "code",
   "execution_count": 36,
   "metadata": {},
   "outputs": [
    {
     "data": {
      "text/plain": [
       "[(77548, 300), (77548, 5), (19386, 300), (19386, 5)]"
      ]
     },
     "execution_count": 36,
     "metadata": {},
     "output_type": "execute_result"
    }
   ],
   "source": [
    "[x_train.shape, y_train.shape, x_test.shape, y_test.shape]"
   ]
  },
  {
   "cell_type": "markdown",
   "metadata": {},
   "source": [
    "## ANN Architecture: Fully Connected Deep Learning Neural Network"
   ]
  },
  {
   "cell_type": "markdown",
   "metadata": {},
   "source": [
    "#### Load Dependencies\n",
    "Load the packages that will be required"
   ]
  },
  {
   "cell_type": "code",
   "execution_count": 37,
   "metadata": {
    "scrolled": true
   },
   "outputs": [
    {
     "name": "stderr",
     "output_type": "stream",
     "text": [
      "/home/sxd24/anaconda3/lib/python3.6/site-packages/h5py/__init__.py:36: FutureWarning: Conversion of the second argument of issubdtype from `float` to `np.floating` is deprecated. In future, it will be treated as `np.float64 == np.dtype(float).type`.\n",
      "  from ._conv import register_converters as _register_converters\n",
      "Using TensorFlow backend.\n"
     ]
    }
   ],
   "source": [
    "import keras\n",
    "from keras import regularizers\n",
    "from keras.models import Sequential\n",
    "from keras.layers import Dense, Flatten, Dropout, Embedding\n",
    "from keras.layers.normalization import BatchNormalization\n",
    "from keras.optimizers import adam"
   ]
  },
  {
   "cell_type": "markdown",
   "metadata": {},
   "source": [
    "#### Set the hyper parameters\n",
    "Set the hyper-parameters which will be used in subsequent model generation"
   ]
  },
  {
   "cell_type": "code",
   "execution_count": 38,
   "metadata": {},
   "outputs": [
    {
     "name": "stdout",
     "output_type": "stream",
     "text": [
      "n_dim = 200\n",
      "n_unique_words = 100000\n",
      "max_review_length = 300\n"
     ]
    }
   ],
   "source": [
    "#--- Training ---#\n",
    "epochs = 10\n",
    "batch_size = 128\n",
    "\n",
    "#--- Vector-Space Embedding ---#\n",
    "n_dim = modelWord2Vec.vector_size\n",
    "n_unique_words = maxVocab\n",
    "# n_words_to_skip = 5\n",
    "max_review_length = maxFVWordLength\n",
    "\n",
    "#--- Dense Layer Architecture ---#\n",
    "n_dense = 128\n",
    "dropout_ratio = 0.35\n",
    "\n",
    "#--- Print the hyper-parameters which are set from other variables ---#\n",
    "print(\"n_dim =\", n_dim)\n",
    "print(\"n_unique_words =\", n_unique_words)\n",
    "print(\"max_review_length =\", max_review_length)"
   ]
  },
  {
   "cell_type": "markdown",
   "metadata": {},
   "source": [
    "#### Design the ANN architecture"
   ]
  },
  {
   "cell_type": "code",
   "execution_count": 39,
   "metadata": {
    "scrolled": true
   },
   "outputs": [
    {
     "name": "stdout",
     "output_type": "stream",
     "text": [
      "_________________________________________________________________\n",
      "Layer (type)                 Output Shape              Param #   \n",
      "=================================================================\n",
      "embedding_1 (Embedding)      (None, 300, 200)          20000000  \n",
      "_________________________________________________________________\n",
      "dense_1 (Dense)              (None, 300, 128)          25728     \n",
      "_________________________________________________________________\n",
      "dropout_1 (Dropout)          (None, 300, 128)          0         \n",
      "_________________________________________________________________\n",
      "dense_2 (Dense)              (None, 300, 128)          16512     \n",
      "_________________________________________________________________\n",
      "dropout_2 (Dropout)          (None, 300, 128)          0         \n",
      "_________________________________________________________________\n",
      "dense_3 (Dense)              (None, 300, 128)          16512     \n",
      "_________________________________________________________________\n",
      "dropout_3 (Dropout)          (None, 300, 128)          0         \n",
      "_________________________________________________________________\n",
      "dense_4 (Dense)              (None, 300, 128)          16512     \n",
      "_________________________________________________________________\n",
      "dropout_4 (Dropout)          (None, 300, 128)          0         \n",
      "_________________________________________________________________\n",
      "dense_5 (Dense)              (None, 300, 128)          16512     \n",
      "_________________________________________________________________\n",
      "dropout_5 (Dropout)          (None, 300, 128)          0         \n",
      "_________________________________________________________________\n",
      "dense_6 (Dense)              (None, 300, 128)          16512     \n",
      "_________________________________________________________________\n",
      "flatten_1 (Flatten)          (None, 38400)             0         \n",
      "_________________________________________________________________\n",
      "dense_7 (Dense)              (None, 5)                 192005    \n",
      "=================================================================\n",
      "Total params: 20,300,293\n",
      "Trainable params: 20,300,293\n",
      "Non-trainable params: 0\n",
      "_________________________________________________________________\n"
     ]
    }
   ],
   "source": [
    "modelFCDL = Sequential()\n",
    "modelFCDL.add(Embedding(n_unique_words, n_dim, input_length=max_review_length))\n",
    "# model.add(LSTM(units=200, activation='softsign'))\n",
    "modelFCDL.add(Dense(n_dense, activation='relu', input_dim=n_dim))\n",
    "modelFCDL.add(Dropout(dropout_ratio))\n",
    "modelFCDL.add(Dense(n_dense, activation='relu'))\n",
    "modelFCDL.add(Dropout(dropout_ratio))\n",
    "modelFCDL.add(Dense(n_dense, activation='relu'))\n",
    "modelFCDL.add(Dropout(dropout_ratio))\n",
    "modelFCDL.add(Dense(n_dense, activation='relu'))\n",
    "modelFCDL.add(Dropout(dropout_ratio))\n",
    "modelFCDL.add(Dense(n_dense, activation='relu'))\n",
    "modelFCDL.add(Dropout(dropout_ratio))\n",
    "modelFCDL.add(Dense(n_dense, activation='relu'))\n",
    "modelFCDL.add(Flatten())\n",
    "modelFCDL.add(Dense(5, activation='sigmoid')) # mathematically equivalent to softmax with 5 classes\n",
    "\n",
    "#--- Display the architecture of the generated model ---#\n",
    "modelFCDL.summary()"
   ]
  },
  {
   "cell_type": "markdown",
   "metadata": {},
   "source": [
    "#### Configure Model"
   ]
  },
  {
   "cell_type": "code",
   "execution_count": 40,
   "metadata": {},
   "outputs": [],
   "source": [
    "modelFCDL.compile(loss='categorical_crossentropy', optimizer='adam', metrics=['accuracy'])\n",
    "# tensorboard = keras.callbacks.TensorBoard(log_dir=\"../logs\", write_graph=True, write_images=True, histogram_freq=1)"
   ]
  },
  {
   "cell_type": "markdown",
   "metadata": {},
   "source": [
    "#### Train the Model"
   ]
  },
  {
   "cell_type": "code",
   "execution_count": 41,
   "metadata": {},
   "outputs": [
    {
     "name": "stdout",
     "output_type": "stream",
     "text": [
      "Starting the model training @ 2018-05-17 13:37:01 ...\n",
      "Train on 77548 samples, validate on 19386 samples\n",
      "Epoch 1/10\n",
      "77548/77548 [==============================] - 546s 7ms/step - loss: 1.1318 - acc: 0.5377 - val_loss: 0.8831 - val_acc: 0.6707\n",
      "Epoch 2/10\n",
      "77548/77548 [==============================] - 542s 7ms/step - loss: 0.7341 - acc: 0.7226 - val_loss: 0.7543 - val_acc: 0.7114\n",
      "Epoch 3/10\n",
      "77548/77548 [==============================] - 543s 7ms/step - loss: 0.6329 - acc: 0.7521 - val_loss: 0.7426 - val_acc: 0.7162\n",
      "Epoch 4/10\n",
      "77548/77548 [==============================] - 540s 7ms/step - loss: 0.5728 - acc: 0.7664 - val_loss: 0.7417 - val_acc: 0.7238\n",
      "Epoch 5/10\n",
      "77548/77548 [==============================] - 541s 7ms/step - loss: 0.5141 - acc: 0.7829 - val_loss: 0.7010 - val_acc: 0.7379\n",
      "Epoch 6/10\n",
      "77548/77548 [==============================] - 543s 7ms/step - loss: 0.4747 - acc: 0.7931 - val_loss: 0.6900 - val_acc: 0.7461\n",
      "Epoch 7/10\n",
      "77548/77548 [==============================] - 543s 7ms/step - loss: 0.4515 - acc: 0.7965 - val_loss: 0.7017 - val_acc: 0.7460\n",
      "Epoch 8/10\n",
      "77548/77548 [==============================] - 545s 7ms/step - loss: 0.4332 - acc: 0.8006 - val_loss: 0.7737 - val_acc: 0.7364\n",
      "Epoch 9/10\n",
      "77548/77548 [==============================] - 547s 7ms/step - loss: 0.4176 - acc: 0.8033 - val_loss: 0.8415 - val_acc: 0.7315\n",
      "Epoch 10/10\n",
      "77548/77548 [==============================] - 547s 7ms/step - loss: 0.4093 - acc: 0.8044 - val_loss: 0.8423 - val_acc: 0.7344\n",
      "Completed the model training @ 2018-05-17 15:07:38\n"
     ]
    }
   ],
   "source": [
    "print(\"Starting the model training @\", datetime.datetime.now().strftime(\"%Y-%m-%d %H:%M:%S\"), \"...\")\n",
    "modelFCDL.fit(x_train, y_train,\n",
    "          batch_size=batch_size,\n",
    "          epochs=epochs,\n",
    "          verbose=1,\n",
    "          validation_data=(x_test, y_test),\n",
    "          shuffle=False)\n",
    "print(\"Completed the model training @\", datetime.datetime.now().strftime(\"%Y-%m-%d %H:%M:%S\"))"
   ]
  },
  {
   "cell_type": "markdown",
   "metadata": {},
   "source": [
    "# Extra Code - Do not execute, but for reuse"
   ]
  },
  {
   "cell_type": "markdown",
   "metadata": {},
   "source": [
    "## ANN Architecture - Multi-ConvNet Deep Learning Neural Network"
   ]
  },
  {
   "cell_type": "code",
   "execution_count": null,
   "metadata": {
    "scrolled": true
   },
   "outputs": [],
   "source": [
    "import keras\n",
    "from keras import regularizers\n",
    "from keras.models import Model\n",
    "from keras.layers import Dense, Dropout, Embedding, Input, concatenate, SpatialDropout1D, Conv1D, GlobalMaxPooling1D\n",
    "from keras.layers.normalization import BatchNormalization\n",
    "from keras.optimizers import adam"
   ]
  },
  {
   "cell_type": "markdown",
   "metadata": {},
   "source": [
    "#### Set the hyper parameters\n",
    "Set the hyper-parameters which will be used in subsequent model generation"
   ]
  },
  {
   "cell_type": "code",
   "execution_count": null,
   "metadata": {},
   "outputs": [],
   "source": [
    "#--- Training ---#\n",
    "epochs = 6\n",
    "batch_size = 128\n",
    "\n",
    "#--- Vector-Space Embedding ---#\n",
    "n_dim = modelWord2Vec.vector_size\n",
    "n_unique_words = maxVocab\n",
    "# n_words_to_skip = 5\n",
    "max_review_length = maxFVWordLength\n",
    "dropout_ratio_embed = 0.2\n",
    "\n",
    "#--- Convolutional Layer Architecture:\n",
    "n_conv_1 = n_conv_2 = n_conv_3 = 128 \n",
    "k_conv_1 = 3\n",
    "k_conv_2 = 2\n",
    "k_conv_3 = 4\n",
    "\n",
    "#--- Dense Layer Architecture ---#\n",
    "n_dense = 128\n",
    "dropout_ratio = 0.4\n",
    "\n",
    "#--- Print the hyper-parameters which are set from other variables ---#\n",
    "print(\"n_dim =\", n_dim)\n",
    "print(\"n_unique_words =\", n_unique_words)\n",
    "print(\"max_review_length =\", max_review_length)"
   ]
  },
  {
   "cell_type": "markdown",
   "metadata": {},
   "source": [
    "#### Design the ConvNet Architecture\n",
    "ANN architecture with ConvNets"
   ]
  },
  {
   "cell_type": "code",
   "execution_count": null,
   "metadata": {},
   "outputs": [],
   "source": [
    "input_layer = Input(shape=(max_review_length,), dtype='int16', name='input') # supports integers +/- 32.7k \n",
    "embedding_layer = Embedding(n_unique_words, n_dim, input_length=max_review_length, name='embedding')(input_layer)\n",
    "drop_embed_layer = SpatialDropout1D(dropout_ratio_embed, name='drop_embed')(embedding_layer)\n",
    "\n",
    "conv_1 = Conv1D(n_conv_1, k_conv_1, activation='relu', name='conv_1')(drop_embed_layer)\n",
    "maxp_1 = GlobalMaxPooling1D(name='maxp_1')(conv_1)\n",
    "\n",
    "conv_2 = Conv1D(n_conv_2, k_conv_2, activation='relu', name='conv_2')(drop_embed_layer)\n",
    "maxp_2 = GlobalMaxPooling1D(name='maxp_2')(conv_2)\n",
    "\n",
    "conv_3 = Conv1D(n_conv_3, k_conv_3, activation='relu', name='conv_3')(drop_embed_layer)\n",
    "maxp_3 = GlobalMaxPooling1D(name='maxp_3')(conv_3)\n",
    "\n",
    "concat = concatenate([maxp_1, maxp_2, maxp_3])\n",
    "\n",
    "dense_layer = Dense(n_dense, activation='relu', name='dense')(concat)\n",
    "drop_dense_layer = Dropout(dropout_ratio, name='drop_dense_01')(dense_layer)\n",
    "dense_2 = Dense(128, activation='relu', name='dense_2')(drop_dense_layer)\n",
    "dropout_2 = Dropout(dropout_ratio, name='drop_dense_2')(dense_2)\n",
    "\n",
    "predictions = Dense(5, activation='sigmoid', name='output')(dropout_2)\n",
    "\n",
    "modelCNN = Model(input_layer, predictions)\n",
    "\n",
    "#--- Display the architecture of the generated model ---#\n",
    "modelCNN.summary()"
   ]
  },
  {
   "cell_type": "markdown",
   "metadata": {},
   "source": [
    "#### Configure Model"
   ]
  },
  {
   "cell_type": "code",
   "execution_count": null,
   "metadata": {},
   "outputs": [],
   "source": [
    "modelCNN.compile(loss='categorical_crossentropy', optimizer='adam', metrics=['accuracy'])\n",
    "# tensorboard = keras.callbacks.TensorBoard(log_dir=\"../logs\", write_graph=True, write_images=True, histogram_freq=1)"
   ]
  },
  {
   "cell_type": "markdown",
   "metadata": {},
   "source": [
    "#### Train the Model"
   ]
  },
  {
   "cell_type": "code",
   "execution_count": null,
   "metadata": {},
   "outputs": [],
   "source": [
    "print(\"Starting the model training @\", datetime.datetime.now().strftime(\"%Y-%m-%d %H:%M:%S\"), \"...\")\n",
    "modelCNN.fit(x_train, y_train,\n",
    "          batch_size=batch_size,\n",
    "          epochs=epochs,\n",
    "          verbose=1,\n",
    "          validation_data=(x_test, y_test),\n",
    "          shuffle=False)\n",
    "print(\"Completed the model training @\", datetime.datetime.now().strftime(\"%Y-%m-%d %H:%M:%S\"))"
   ]
  },
  {
   "cell_type": "code",
   "execution_count": null,
   "metadata": {},
   "outputs": [],
   "source": [
    "import psutil\n",
    "psutil.virtual_memory()"
   ]
  },
  {
   "cell_type": "code",
   "execution_count": null,
   "metadata": {},
   "outputs": [],
   "source": [
    "#--- Create model checkpoint ---#\n",
    "modelOutputDir = '../model-output/ann'\n",
    "modelcheckpoint = ModelCheckpoint(filepath=output_dir+\"/weights.{epoch:02d}.hdf5\")\n",
    "if not os.path.exists(output_dir):\n",
    "    os.makedirs(output_dir)"
   ]
  },
  {
   "cell_type": "markdown",
   "metadata": {},
   "source": [
    "Check the function fnGetLabels() with some test data"
   ]
  },
  {
   "cell_type": "code",
   "execution_count": null,
   "metadata": {},
   "outputs": [],
   "source": [
    "print(\"Encoded label for article with index = 0:\\n\", fnGetLabels(32000))"
   ]
  },
  {
   "cell_type": "markdown",
   "metadata": {},
   "source": [
    "##### Load the data if datasets are empty\n",
    "Load data from the *.npy if the datasets are empty"
   ]
  },
  {
   "cell_type": "code",
   "execution_count": null,
   "metadata": {},
   "outputs": [],
   "source": [
    "if len(quarantineArticles) == 0:\n",
    "    print(\"quarantineArticles is empty! Reloading the data from quarantineArticles.npy ...\")\n",
    "    QuarantineArticles = np.load('../data/medline_abstracts/npQuarantineArticles.npy')\n",
    "else:\n",
    "    print(\"quarantineArticles already contain data!\")\n",
    "\n",
    "if len(whitelistedArticles) == 0:\n",
    "    print(\"whitelistedArticles is empty! Reloading the data from whitelistedArticles.npy ...\")\n",
    "    whitelistedArticles = np.load('../data/medline_abstracts/npWhiteListArticles.npy')\n",
    "else:\n",
    "    print(\"whitelistedArticles already contain data!\")"
   ]
  },
  {
   "cell_type": "code",
   "execution_count": null,
   "metadata": {},
   "outputs": [],
   "source": [
    "print(whitelistedArticles)"
   ]
  }
 ],
 "metadata": {
  "kernelspec": {
   "display_name": "Python 3",
   "language": "python",
   "name": "python3"
  },
  "language_info": {
   "codemirror_mode": {
    "name": "ipython",
    "version": 3
   },
   "file_extension": ".py",
   "mimetype": "text/x-python",
   "name": "python",
   "nbconvert_exporter": "python",
   "pygments_lexer": "ipython3",
   "version": "3.6.4"
  }
 },
 "nbformat": 4,
 "nbformat_minor": 2
}
